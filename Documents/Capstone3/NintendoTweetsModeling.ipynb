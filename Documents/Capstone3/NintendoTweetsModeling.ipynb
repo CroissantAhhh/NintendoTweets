{
 "cells": [
  {
   "cell_type": "markdown",
   "metadata": {},
   "source": [
    "# Nintendo Tweets Modeling"
   ]
  },
  {
   "cell_type": "code",
   "execution_count": 14,
   "metadata": {},
   "outputs": [],
   "source": [
    "import statistics\n",
    "import matplotlib.pyplot as plt\n",
    "import seaborn as sns\n",
    "import pandas as pd\n",
    "import numpy as np\n",
    "import os\n",
    "import datetime\n",
    "import pprint\n",
    "from sklearn.feature_extraction.text import CountVectorizer\n",
    "from sklearn.feature_extraction.text import TfidfVectorizer\n",
    "from sklearn.metrics import confusion_matrix, accuracy_score, precision_score, recall_score, f1_score"
   ]
  },
  {
   "cell_type": "code",
   "execution_count": 2,
   "metadata": {},
   "outputs": [],
   "source": [
    "path = \"/Users/jasonzhou/Documents/GitHub/NintendoTweets/Documents/Capstone3\"\n",
    "os.chdir(path)\n",
    "\n",
    "smashtraining = pd.read_csv('smashtraining.csv')\n",
    "firetraining = pd.read_csv('firetraining.csv')\n",
    "partytraining = pd.read_csv('partytraining.csv')\n",
    "\n",
    "smashsamples = pd.read_csv('smashsamples.csv')\n",
    "firesamples = pd.read_csv('firesamples.csv')\n",
    "partysamples = pd.read_csv('partysamples.csv')"
   ]
  },
  {
   "cell_type": "code",
   "execution_count": 38,
   "metadata": {},
   "outputs": [],
   "source": [
    "def makeCountVec(df):\n",
    "    vectorizer = CountVectorizer(min_df=0)\n",
    "    vectorizer.fit(df['cleanedtext'])\n",
    "    array = vectorizer.transform(df['cleanedtext'])\n",
    "    return array.toarray()"
   ]
  },
  {
   "cell_type": "code",
   "execution_count": 46,
   "metadata": {},
   "outputs": [],
   "source": [
    "def makeCountVec(df):\n",
    "    vectorizer = CountVectorizer(min_df=0)\n",
    "    vectorizer.fit(df['cleanedtext'])\n",
    "    array = vectorizer.transform(df['cleanedtext'])\n",
    "    array = array.toarray()\n",
    "    features = vectorizer.get_feature_names()\n",
    "    return array, features"
   ]
  },
  {
   "cell_type": "code",
   "execution_count": 57,
   "metadata": {},
   "outputs": [],
   "source": [
    "smashX, smashfeatures = makeCountVec(smashtraining)\n",
    "smashy = smashtraining['label']\n",
    "\n",
    "fireX, firefeatures = makeCountVec(firetraining)\n",
    "firey = firetraining['label']\n",
    "\n",
    "partyX, partyfeatures = makeCountVec(partytraining)\n",
    "partyy = partytraining['label']"
   ]
  },
  {
   "cell_type": "code",
   "execution_count": 48,
   "metadata": {},
   "outputs": [
    {
     "data": {
      "text/plain": [
       "array([[0, 0, 0, ..., 0, 0, 0],\n",
       "       [0, 0, 0, ..., 0, 0, 0],\n",
       "       [0, 0, 0, ..., 0, 0, 0],\n",
       "       ...,\n",
       "       [0, 0, 0, ..., 0, 0, 0],\n",
       "       [0, 0, 0, ..., 0, 0, 0],\n",
       "       [0, 0, 0, ..., 0, 0, 0]])"
      ]
     },
     "execution_count": 48,
     "metadata": {},
     "output_type": "execute_result"
    }
   ],
   "source": [
    "smashX"
   ]
  },
  {
   "cell_type": "markdown",
   "metadata": {},
   "source": [
    "For reference, each game will be mapped to a number, in the interest of variable name lengths:\n",
    "\n",
    "- Smash Bros. Ultimate: 1\n",
    "\n",
    "- Fire Emblem: Three Houses: 2\n",
    "\n",
    "- Super Mario Party: 3"
   ]
  },
  {
   "cell_type": "code",
   "execution_count": 89,
   "metadata": {},
   "outputs": [],
   "source": [
    "from sklearn.model_selection import train_test_split\n",
    "\n",
    "Xtr1, Xte1, ytr1, yte1 = train_test_split(smashX, smashy, test_size=0.3, random_state=1, stratify = smashy)\n",
    "Xtr2, Xte2, ytr2, yte2 = train_test_split(fireX, firey, test_size=0.3, random_state=1, stratify = firey)\n",
    "Xtr3, Xte3, ytr3, yte3 = train_test_split(partyX, partyy, test_size=0.3, random_state=1, stratify = partyy)"
   ]
  },
  {
   "cell_type": "markdown",
   "metadata": {},
   "source": [
    "Now that we have training and testing data for each of our collection of tweets, I'm going to be looking at the baseline performances of four models on each of our data sets. The four models are the following:\n",
    "\n",
    "- Logistic Regression\n",
    "- Random Forest Classifier\n",
    "- XGBClassifier\n",
    "- SVC\n",
    "\n",
    "I'm going to determine the performance of each of these models using a baseline version of each. Each different type of model will be tested on each of our sets of data, which means we are going to end up with 12 sets of results in the end, that will be compiled into a table. \n",
    "\n",
    "Below defined are helper functions that will help not only to create baseline models but to determine their performance by printing out classification reports and confusion matrices. "
   ]
  },
  {
   "cell_type": "code",
   "execution_count": 76,
   "metadata": {},
   "outputs": [],
   "source": [
    "from matplotlib.ticker import IndexLocator\n",
    "import itertools\n",
    "\n",
    "def plot_cm(y_test,y_pred_class,classes=['NON-default','DEFAULT']):\n",
    "    # plot confusion matrix\n",
    "    fig, ax = plt.subplots()\n",
    "    cm = confusion_matrix(y_test, y_pred_class)\n",
    "    \n",
    "    im = ax.imshow(cm, interpolation='nearest', cmap=plt.cm.Blues)\n",
    "    ax.figure.colorbar(im, ax=ax)\n",
    "    plt.title(\"Confusion Matrix\")\n",
    "    ax.set(yticks=[-0.5, 1.5], \n",
    "           xticks=[0, 1], \n",
    "           yticklabels=classes, \n",
    "           xticklabels=classes)\n",
    "    ax.yaxis.set_major_locator(IndexLocator(base=1, offset=0.5))\n",
    "    thresh = cm.max() / 2.\n",
    "    for i, j in itertools.product(range(cm.shape[0]), range(cm.shape[1])):\n",
    "        plt.text(j, i, format(cm[i, j], 'd'),\n",
    "                 horizontalalignment=\"center\",\n",
    "                 color=\"white\" if cm[i, j] > thresh else \"black\")\n",
    "    plt.tight_layout()\n",
    "    plt.ylabel('True label')\n",
    "    plt.xlabel('Predicted label')\n",
    "    \n",
    "def scores(y_test, y_pred_class):\n",
    "    # Prints formatted classification metrics. \n",
    "    print('Classification Accuracy: ', format(accuracy_score(y_test, y_pred_class), '.3f'))\n",
    "    print('Precision score: ', format(precision_score(y_test, y_pred_class), '.3f'))\n",
    "    print('Recall score: ', format(recall_score(y_test, y_pred_class), '.3f'))\n",
    "    print('F1 score: ', format(f1_score(y_test, y_pred_class), '.3f'))"
   ]
  },
  {
   "cell_type": "code",
   "execution_count": 52,
   "metadata": {},
   "outputs": [],
   "source": [
    "from sklearn.linear_model import LogisticRegression\n",
    "from sklearn.ensemble import RandomForestClassifier\n",
    "import xgboost as xgb\n",
    "from sklearn.svm import SVC\n",
    "\n",
    "def logiRegr(X_train, y_train, X_test, y_test,**kwargs):\n",
    "    # Instantiate model. Use kwargs to pass parameters.\n",
    "    # Pass GridSearch best_params with ** to unpack.\n",
    "    logreg = LogisticRegression(random_state=1,**kwargs)\n",
    "    # Fit to training data.\n",
    "    logreg.fit(X_train, y_train)\n",
    "    # Examine coefficients\n",
    "    #pprint.pprint(list(zip(X_train.columns,logreg.coef_[0])))\n",
    "    # Class predictions (not predicted probabilities)\n",
    "    y_pred_class = logreg.predict(X_test)\n",
    "    # Scoring metrics\n",
    "    scores(y_test, y_pred_class)\n",
    "    # Plot confusion matrix\n",
    "    plot_cm(y_test,y_pred_class)\n",
    "    \n",
    "def randomForest(X_train, y_train, X_test, y_test,**kwargs):\n",
    "    # Instantiate model. Use kwargs to pass parameters.\n",
    "    # Pass GridSearch best_params with ** to unpack.\n",
    "    rf = RandomForestClassifier(random_state=1, **kwargs) \n",
    "    # Fit to training data.\n",
    "    rf.fit(X_train,y_train)\n",
    "    # Class predictions\n",
    "    y_pred_class = rf.predict(X_test)\n",
    "    # Scoring metrics\n",
    "    scores(y_test, y_pred_class)\n",
    "    # Confusion matrix\n",
    "    plot_cm(y_test,y_pred_class)\n",
    "    \n",
    "def xgbClass(X_train, y_train, X_test, y_test,**kwargs):\n",
    "    # Instantiate model. Use kwargs to pass parameters.\n",
    "    # Pass GridSearch best_params with ** to unpack.\n",
    "    xg = xgb.XGBClassifier(seed=1,**kwargs)\n",
    "    # Fit to training data.\n",
    "    xg.fit(X_train,y_train)\n",
    "    # Class predictions\n",
    "    y_pred_class = xg.predict(X_test)\n",
    "    # Scoring metrics\n",
    "    scores(y_test, y_pred_class)\n",
    "    # Confusion matrix\n",
    "    plot_cm(y_test,y_pred_class)\n",
    "    \n",
    "def svmClass(X_train, y_train, X_test, y_test, **kwargs):\n",
    "    # Instantiate model. Use kwargs to pass parameters.\n",
    "    # Pass GridSearch best_params with ** to unpack.\n",
    "    svm = SVC(random_state=1,**kwargs)\n",
    "    # Fit to training data.\n",
    "    svm.fit(X_train, y_train)\n",
    "    # Class predictions\n",
    "    y_pred_class = svm.predict(X_test)\n",
    "    # Scoring metrics\n",
    "    scores(y_test, y_pred_class)\n",
    "    # Plot confusion matrix\n",
    "    plot_cm(y_test,y_pred_class)"
   ]
  },
  {
   "cell_type": "code",
   "execution_count": 90,
   "metadata": {},
   "outputs": [
    {
     "name": "stdout",
     "output_type": "stream",
     "text": [
      "Classification Accuracy:  0.982\n",
      "Precision score:  0.986\n",
      "Recall score:  0.996\n",
      "F1 score:  0.991\n"
     ]
    },
    {
     "data": {
      "image/png": "[encoded data removed]",
      "text/plain": [
       "<Figure size 432x288 with 2 Axes>"
      ]
     },
     "metadata": {
      "needs_background": "light"
     },
     "output_type": "display_data"
    }
   ],
   "source": [
    "logiRegr(Xtr1, ytr1, Xte1, yte1)"
   ]
  },
  {
   "cell_type": "code",
   "execution_count": 91,
   "metadata": {},
   "outputs": [
    {
     "name": "stdout",
     "output_type": "stream",
     "text": [
      "Classification Accuracy:  0.984\n",
      "Precision score:  0.991\n",
      "Recall score:  0.992\n",
      "F1 score:  0.992\n"
     ]
    },
    {
     "data": {
      "image/png": "[encoded data removed]",
      "text/plain": [
       "<Figure size 432x288 with 2 Axes>"
      ]
     },
     "metadata": {
      "needs_background": "light"
     },
     "output_type": "display_data"
    }
   ],
   "source": [
    "randomForest(Xtr1, ytr1, Xte1, yte1)"
   ]
  },
  {
   "cell_type": "code",
   "execution_count": 92,
   "metadata": {},
   "outputs": [
    {
     "name": "stdout",
     "output_type": "stream",
     "text": [
      "Classification Accuracy:  0.982\n",
      "Precision score:  0.988\n",
      "Recall score:  0.993\n",
      "F1 score:  0.990\n"
     ]
    },
    {
     "data": {
      "image/png": "[encoded data removed]",
      "text/plain": [
       "<Figure size 432x288 with 2 Axes>"
      ]
     },
     "metadata": {
      "needs_background": "light"
     },
     "output_type": "display_data"
    }
   ],
   "source": [
    "xgbClass(Xtr1, ytr1, Xte1, yte1)"
   ]
  },
  {
   "cell_type": "code",
   "execution_count": 93,
   "metadata": {},
   "outputs": [
    {
     "name": "stdout",
     "output_type": "stream",
     "text": [
      "Classification Accuracy:  0.983\n",
      "Precision score:  0.987\n",
      "Recall score:  0.996\n",
      "F1 score:  0.991\n"
     ]
    },
    {
     "data": {
      "image/png": "[encoded data removed]",
      "text/plain": [
       "<Figure size 432x288 with 2 Axes>"
      ]
     },
     "metadata": {
      "needs_background": "light"
     },
     "output_type": "display_data"
    }
   ],
   "source": [
    "svmClass(Xtr1, ytr1, Xte1, yte1)"
   ]
  },
  {
   "cell_type": "code",
   "execution_count": 94,
   "metadata": {},
   "outputs": [],
   "source": [
    "Xtr2, Xte2, ytr2, yte2 = train_test_split(fireX, firey, test_size=0.3, random_state=1, stratify = firey)"
   ]
  },
  {
   "cell_type": "code",
   "execution_count": 95,
   "metadata": {},
   "outputs": [
    {
     "name": "stdout",
     "output_type": "stream",
     "text": [
      "Classification Accuracy:  0.983\n",
      "Precision score:  0.983\n",
      "Recall score:  1.000\n",
      "F1 score:  0.992\n"
     ]
    },
    {
     "data": {
      "image/png": "[encoded data removed]",
      "text/plain": [
       "<Figure size 432x288 with 2 Axes>"
      ]
     },
     "metadata": {
      "needs_background": "light"
     },
     "output_type": "display_data"
    }
   ],
   "source": [
    "logiRegr(Xtr2, ytr2, Xte2, yte2)"
   ]
  },
  {
   "cell_type": "code",
   "execution_count": 96,
   "metadata": {},
   "outputs": [
    {
     "name": "stdout",
     "output_type": "stream",
     "text": [
      "Classification Accuracy:  0.981\n",
      "Precision score:  0.986\n",
      "Recall score:  0.995\n",
      "F1 score:  0.990\n"
     ]
    },
    {
     "data": {
      "image/png": "[encoded data removed]",
      "text/plain": [
       "<Figure size 432x288 with 2 Axes>"
      ]
     },
     "metadata": {
      "needs_background": "light"
     },
     "output_type": "display_data"
    }
   ],
   "source": [
    "randomForest(Xtr2, ytr2, Xte2, yte2)"
   ]
  },
  {
   "cell_type": "code",
   "execution_count": 97,
   "metadata": {},
   "outputs": [
    {
     "name": "stdout",
     "output_type": "stream",
     "text": [
      "Classification Accuracy:  0.991\n",
      "Precision score:  0.995\n",
      "Recall score:  0.995\n",
      "F1 score:  0.995\n"
     ]
    },
    {
     "data": {
      "image/png": "[encoded data removed]",
      "text/plain": [
       "<Figure size 432x288 with 2 Axes>"
      ]
     },
     "metadata": {
      "needs_background": "light"
     },
     "output_type": "display_data"
    }
   ],
   "source": [
    "xgbClass(Xtr2, ytr2, Xte2, yte2)"
   ]
  },
  {
   "cell_type": "code",
   "execution_count": 98,
   "metadata": {},
   "outputs": [
    {
     "name": "stdout",
     "output_type": "stream",
     "text": [
      "Classification Accuracy:  0.983\n",
      "Precision score:  0.983\n",
      "Recall score:  1.000\n",
      "F1 score:  0.992\n"
     ]
    },
    {
     "data": {
      "image/png": "[encoded data removed]",
      "text/plain": [
       "<Figure size 432x288 with 2 Axes>"
      ]
     },
     "metadata": {
      "needs_background": "light"
     },
     "output_type": "display_data"
    }
   ],
   "source": [
    "svmClass(Xtr2, ytr2, Xte2, yte2)"
   ]
  },
  {
   "cell_type": "code",
   "execution_count": 99,
   "metadata": {},
   "outputs": [
    {
     "name": "stdout",
     "output_type": "stream",
     "text": [
      "Classification Accuracy:  0.945\n",
      "Precision score:  0.949\n",
      "Recall score:  0.996\n",
      "F1 score:  0.972\n"
     ]
    },
    {
     "data": {
      "image/png": "[encoded data removed]",
      "text/plain": [
       "<Figure size 432x288 with 2 Axes>"
      ]
     },
     "metadata": {
      "needs_background": "light"
     },
     "output_type": "display_data"
    }
   ],
   "source": [
    "logiRegr(Xtr3, ytr3, Xte3, yte3)"
   ]
  },
  {
   "cell_type": "code",
   "execution_count": 100,
   "metadata": {},
   "outputs": [
    {
     "name": "stdout",
     "output_type": "stream",
     "text": [
      "Classification Accuracy:  0.950\n",
      "Precision score:  0.957\n",
      "Recall score:  0.991\n",
      "F1 score:  0.974\n"
     ]
    },
    {
     "data": {
      "image/png": "[encoded data removed]",
      "text/plain": [
       "<Figure size 432x288 with 2 Axes>"
      ]
     },
     "metadata": {
      "needs_background": "light"
     },
     "output_type": "display_data"
    }
   ],
   "source": [
    "randomForest(Xtr3, ytr3, Xte3, yte3)"
   ]
  },
  {
   "cell_type": "code",
   "execution_count": 101,
   "metadata": {},
   "outputs": [
    {
     "name": "stdout",
     "output_type": "stream",
     "text": [
      "Classification Accuracy:  0.950\n",
      "Precision score:  0.957\n",
      "Recall score:  0.991\n",
      "F1 score:  0.974\n"
     ]
    },
    {
     "data": {
      "image/png": "[encoded data removed]",
      "text/plain": [
       "<Figure size 432x288 with 2 Axes>"
      ]
     },
     "metadata": {
      "needs_background": "light"
     },
     "output_type": "display_data"
    }
   ],
   "source": [
    "xgbClass(Xtr3, ytr3, Xte3, yte3)"
   ]
  },
  {
   "cell_type": "code",
   "execution_count": 102,
   "metadata": {},
   "outputs": [
    {
     "name": "stdout",
     "output_type": "stream",
     "text": [
      "Classification Accuracy:  0.945\n",
      "Precision score:  0.953\n",
      "Recall score:  0.991\n",
      "F1 score:  0.972\n"
     ]
    },
    {
     "data": {
      "image/png": "[encoded data removed]",
      "text/plain": [
       "<Figure size 432x288 with 2 Axes>"
      ]
     },
     "metadata": {
      "needs_background": "light"
     },
     "output_type": "display_data"
    }
   ],
   "source": [
    "svmClass(Xtr3, ytr3, Xte3, yte3)"
   ]
  },
  {
   "cell_type": "markdown",
   "metadata": {},
   "source": [
    "Summary of Classification Accuracies\n",
    "\n",
    "Game1: Smash Bros Ultimate\n",
    "\n",
    "Game2: Fire Emblem: Three Houses\n",
    "\n",
    "Game3: Super Mario Party\n",
    "\n",
    "\n",
    "|      |Game1 |Game2 |Game3 |\n",
    "|------|------|------|------|\n",
    "|LogReg|0.982 |0.983 |0.945 |\n",
    "|RanFor|0.984 |0.981 |0.950 |\n",
    "|XGB   |0.982 |0.991 |0.950 |\n",
    "|SVM   |0.983 |0.983 |0.945 |"
   ]
  },
  {
   "cell_type": "markdown",
   "metadata": {},
   "source": [
    "# Hyperparameter Tuning"
   ]
  },
  {
   "cell_type": "code",
   "execution_count": 103,
   "metadata": {},
   "outputs": [],
   "source": [
    "def printGridResult(grid_result):\n",
    "    print(\"Best: %f using %s\" % (grid_result.best_score_, grid_result.best_params_))\n",
    "    means = grid_result.cv_results_['mean_test_score']\n",
    "    stds = grid_result.cv_results_['std_test_score']\n",
    "    params = grid_result.cv_results_['params']\n",
    "    for mean, stdev, param in zip(means, stds, params):\n",
    "        print(\"%f (%f) with: %r\" % (mean, stdev, param))"
   ]
  },
  {
   "cell_type": "code",
   "execution_count": 106,
   "metadata": {},
   "outputs": [
    {
     "name": "stdout",
     "output_type": "stream",
     "text": [
      "Best: 0.986237 using {'C': 100, 'penalty': 'l2', 'solver': 'liblinear'}\n",
      "0.986121 (0.002538) with: {'C': 100, 'penalty': 'l2', 'solver': 'newton-cg'}\n",
      "0.986121 (0.002538) with: {'C': 100, 'penalty': 'l2', 'solver': 'lbfgs'}\n",
      "0.986237 (0.002527) with: {'C': 100, 'penalty': 'l2', 'solver': 'liblinear'}\n",
      "0.984376 (0.002980) with: {'C': 10, 'penalty': 'l2', 'solver': 'newton-cg'}\n",
      "0.984376 (0.002980) with: {'C': 10, 'penalty': 'l2', 'solver': 'lbfgs'}\n",
      "0.984415 (0.002944) with: {'C': 10, 'penalty': 'l2', 'solver': 'liblinear'}\n",
      "0.978716 (0.002111) with: {'C': 1.0, 'penalty': 'l2', 'solver': 'newton-cg'}\n",
      "0.978716 (0.002111) with: {'C': 1.0, 'penalty': 'l2', 'solver': 'lbfgs'}\n",
      "0.978832 (0.002079) with: {'C': 1.0, 'penalty': 'l2', 'solver': 'liblinear'}\n",
      "0.963984 (0.002585) with: {'C': 0.1, 'penalty': 'l2', 'solver': 'newton-cg'}\n",
      "0.963984 (0.002585) with: {'C': 0.1, 'penalty': 'l2', 'solver': 'lbfgs'}\n",
      "0.965031 (0.002775) with: {'C': 0.1, 'penalty': 'l2', 'solver': 'liblinear'}\n",
      "0.946150 (0.000270) with: {'C': 0.01, 'penalty': 'l2', 'solver': 'newton-cg'}\n",
      "0.946150 (0.000270) with: {'C': 0.01, 'penalty': 'l2', 'solver': 'lbfgs'}\n",
      "0.946150 (0.000270) with: {'C': 0.01, 'penalty': 'l2', 'solver': 'liblinear'}\n"
     ]
    }
   ],
   "source": [
    "from sklearn.model_selection import RepeatedStratifiedKFold\n",
    "from sklearn.model_selection import GridSearchCV\n",
    "\n",
    "solvers = ['newton-cg', 'lbfgs', 'liblinear']\n",
    "penalty = ['l2']\n",
    "c_values = [100, 10, 1.0, 0.1, 0.01]\n",
    "\n",
    "grid = dict(solver=solvers,penalty=penalty,C=c_values)\n",
    "model = LogisticRegression()\n",
    "\n",
    "cv = RepeatedStratifiedKFold(n_splits=5, n_repeats=3, random_state=1)\n",
    "grid_search = GridSearchCV(estimator=model, param_grid=grid, n_jobs=-1, cv=cv, scoring='accuracy',error_score=0)\n",
    "grid_result = grid_search.fit(Xtr1, ytr1)\n",
    "printGridResult(grid_result)"
   ]
  },
  {
   "cell_type": "code",
   "execution_count": 107,
   "metadata": {},
   "outputs": [
    {
     "name": "stdout",
     "output_type": "stream",
     "text": [
      "Best: 0.987132 using {'C': 100, 'penalty': 'l2', 'solver': 'liblinear'}\n",
      "0.987130 (0.004855) with: {'C': 100, 'penalty': 'l2', 'solver': 'newton-cg'}\n",
      "0.987130 (0.004855) with: {'C': 100, 'penalty': 'l2', 'solver': 'lbfgs'}\n",
      "0.987132 (0.005820) with: {'C': 100, 'penalty': 'l2', 'solver': 'liblinear'}\n",
      "0.985775 (0.003797) with: {'C': 10, 'penalty': 'l2', 'solver': 'newton-cg'}\n",
      "0.985775 (0.003797) with: {'C': 10, 'penalty': 'l2', 'solver': 'lbfgs'}\n",
      "0.986453 (0.004000) with: {'C': 10, 'penalty': 'l2', 'solver': 'liblinear'}\n",
      "0.983067 (0.004778) with: {'C': 1.0, 'penalty': 'l2', 'solver': 'newton-cg'}\n",
      "0.983067 (0.004778) with: {'C': 1.0, 'penalty': 'l2', 'solver': 'lbfgs'}\n",
      "0.985436 (0.003642) with: {'C': 1.0, 'penalty': 'l2', 'solver': 'liblinear'}\n",
      "0.981710 (0.002468) with: {'C': 0.1, 'penalty': 'l2', 'solver': 'newton-cg'}\n",
      "0.981710 (0.002468) with: {'C': 0.1, 'penalty': 'l2', 'solver': 'lbfgs'}\n",
      "0.981710 (0.002468) with: {'C': 0.1, 'penalty': 'l2', 'solver': 'liblinear'}\n",
      "0.981710 (0.002468) with: {'C': 0.01, 'penalty': 'l2', 'solver': 'newton-cg'}\n",
      "0.981710 (0.002468) with: {'C': 0.01, 'penalty': 'l2', 'solver': 'lbfgs'}\n",
      "0.981710 (0.002468) with: {'C': 0.01, 'penalty': 'l2', 'solver': 'liblinear'}\n"
     ]
    }
   ],
   "source": [
    "grid_result = grid_search.fit(Xtr2, ytr2)\n",
    "printGridResult(grid_result)"
   ]
  },
  {
   "cell_type": "code",
   "execution_count": 108,
   "metadata": {},
   "outputs": [
    {
     "name": "stdout",
     "output_type": "stream",
     "text": [
      "Best: 0.962162 using {'C': 100, 'penalty': 'l2', 'solver': 'newton-cg'}\n",
      "0.962162 (0.013240) with: {'C': 100, 'penalty': 'l2', 'solver': 'newton-cg'}\n",
      "0.962162 (0.013240) with: {'C': 100, 'penalty': 'l2', 'solver': 'lbfgs'}\n",
      "0.962162 (0.013240) with: {'C': 100, 'penalty': 'l2', 'solver': 'liblinear'}\n",
      "0.960360 (0.011300) with: {'C': 10, 'penalty': 'l2', 'solver': 'newton-cg'}\n",
      "0.960360 (0.011300) with: {'C': 10, 'penalty': 'l2', 'solver': 'lbfgs'}\n",
      "0.960360 (0.011300) with: {'C': 10, 'penalty': 'l2', 'solver': 'liblinear'}\n",
      "0.960360 (0.009759) with: {'C': 1.0, 'penalty': 'l2', 'solver': 'newton-cg'}\n",
      "0.960360 (0.009759) with: {'C': 1.0, 'penalty': 'l2', 'solver': 'lbfgs'}\n",
      "0.961562 (0.010643) with: {'C': 1.0, 'penalty': 'l2', 'solver': 'liblinear'}\n",
      "0.938739 (0.003604) with: {'C': 0.1, 'penalty': 'l2', 'solver': 'newton-cg'}\n",
      "0.938739 (0.003604) with: {'C': 0.1, 'penalty': 'l2', 'solver': 'lbfgs'}\n",
      "0.938739 (0.003604) with: {'C': 0.1, 'penalty': 'l2', 'solver': 'liblinear'}\n",
      "0.938739 (0.003604) with: {'C': 0.01, 'penalty': 'l2', 'solver': 'newton-cg'}\n",
      "0.938739 (0.003604) with: {'C': 0.01, 'penalty': 'l2', 'solver': 'lbfgs'}\n",
      "0.938739 (0.003604) with: {'C': 0.01, 'penalty': 'l2', 'solver': 'liblinear'}\n"
     ]
    }
   ],
   "source": [
    "grid_result = grid_search.fit(Xtr3, ytr3)\n",
    "printGridResult(grid_result)"
   ]
  },
  {
   "cell_type": "code",
   "execution_count": 109,
   "metadata": {},
   "outputs": [
    {
     "name": "stdout",
     "output_type": "stream",
     "text": [
      "Best: 0.976739 using {'max_features': 6, 'n_estimators': 10}\n",
      "0.973250 (0.002651) with: {'max_features': 1, 'n_estimators': 10}\n",
      "0.971350 (0.002359) with: {'max_features': 1, 'n_estimators': 100}\n",
      "0.971389 (0.002364) with: {'max_features': 1, 'n_estimators': 1000}\n",
      "0.974490 (0.002684) with: {'max_features': 2, 'n_estimators': 10}\n",
      "0.972862 (0.002772) with: {'max_features': 2, 'n_estimators': 100}\n",
      "0.972242 (0.002488) with: {'max_features': 2, 'n_estimators': 1000}\n",
      "0.974180 (0.002963) with: {'max_features': 3, 'n_estimators': 10}\n",
      "0.973017 (0.002657) with: {'max_features': 3, 'n_estimators': 100}\n",
      "0.972784 (0.002440) with: {'max_features': 3, 'n_estimators': 1000}\n",
      "0.975188 (0.003119) with: {'max_features': 4, 'n_estimators': 10}\n",
      "0.973327 (0.002446) with: {'max_features': 4, 'n_estimators': 100}\n",
      "0.973095 (0.002524) with: {'max_features': 4, 'n_estimators': 1000}\n",
      "0.975963 (0.002255) with: {'max_features': 5, 'n_estimators': 10}\n",
      "0.974064 (0.002408) with: {'max_features': 5, 'n_estimators': 100}\n",
      "0.973909 (0.002294) with: {'max_features': 5, 'n_estimators': 1000}\n",
      "0.976739 (0.003815) with: {'max_features': 6, 'n_estimators': 10}\n",
      "0.974839 (0.001820) with: {'max_features': 6, 'n_estimators': 100}\n",
      "0.974413 (0.002057) with: {'max_features': 6, 'n_estimators': 1000}\n",
      "0.976661 (0.003274) with: {'max_features': 7, 'n_estimators': 10}\n",
      "0.975770 (0.002418) with: {'max_features': 7, 'n_estimators': 100}\n",
      "0.975111 (0.002441) with: {'max_features': 7, 'n_estimators': 1000}\n"
     ]
    }
   ],
   "source": [
    "model = RandomForestClassifier()\n",
    "n_estimators = [10, 100, 1000]\n",
    "max_features = range(1,8)\n",
    "grid = dict(n_estimators=n_estimators,max_features=max_features)\n",
    "\n",
    "cv = RepeatedStratifiedKFold(n_splits=5, n_repeats=3, random_state=1)\n",
    "grid_search = GridSearchCV(estimator=model, param_grid=grid, n_jobs=-1, cv=cv, scoring='accuracy',error_score=0)\n",
    "grid_result = grid_search.fit(Xtr1, ytr1)\n",
    "printGridResult(grid_result)"
   ]
  },
  {
   "cell_type": "code",
   "execution_count": 110,
   "metadata": {},
   "outputs": [
    {
     "name": "stdout",
     "output_type": "stream",
     "text": [
      "Best: 0.985098 using {'max_features': 5, 'n_estimators': 10}\n",
      "0.983408 (0.007740) with: {'max_features': 1, 'n_estimators': 10}\n",
      "0.983743 (0.002738) with: {'max_features': 1, 'n_estimators': 100}\n",
      "0.983404 (0.002899) with: {'max_features': 1, 'n_estimators': 1000}\n",
      "0.982050 (0.005813) with: {'max_features': 2, 'n_estimators': 10}\n",
      "0.984081 (0.003130) with: {'max_features': 2, 'n_estimators': 100}\n",
      "0.983743 (0.002738) with: {'max_features': 2, 'n_estimators': 1000}\n",
      "0.984083 (0.004079) with: {'max_features': 3, 'n_estimators': 10}\n",
      "0.984081 (0.002522) with: {'max_features': 3, 'n_estimators': 100}\n",
      "0.983743 (0.002738) with: {'max_features': 3, 'n_estimators': 1000}\n",
      "0.982727 (0.003601) with: {'max_features': 4, 'n_estimators': 10}\n",
      "0.983744 (0.003302) with: {'max_features': 4, 'n_estimators': 100}\n",
      "0.983743 (0.002738) with: {'max_features': 4, 'n_estimators': 1000}\n",
      "0.985098 (0.005701) with: {'max_features': 5, 'n_estimators': 10}\n",
      "0.984081 (0.002522) with: {'max_features': 5, 'n_estimators': 100}\n",
      "0.983743 (0.002738) with: {'max_features': 5, 'n_estimators': 1000}\n",
      "0.984083 (0.004848) with: {'max_features': 6, 'n_estimators': 10}\n",
      "0.983743 (0.002738) with: {'max_features': 6, 'n_estimators': 100}\n",
      "0.984081 (0.002522) with: {'max_features': 6, 'n_estimators': 1000}\n",
      "0.983743 (0.004228) with: {'max_features': 7, 'n_estimators': 10}\n",
      "0.983404 (0.002899) with: {'max_features': 7, 'n_estimators': 100}\n",
      "0.984419 (0.002235) with: {'max_features': 7, 'n_estimators': 1000}\n"
     ]
    }
   ],
   "source": [
    "grid_result = grid_search.fit(Xtr2, ytr2)\n",
    "printGridResult(grid_result)"
   ]
  },
  {
   "cell_type": "code",
   "execution_count": 111,
   "metadata": {},
   "outputs": [
    {
     "name": "stdout",
     "output_type": "stream",
     "text": [
      "Best: 0.957958 using {'max_features': 4, 'n_estimators': 100}\n",
      "0.956757 (0.009978) with: {'max_features': 1, 'n_estimators': 10}\n",
      "0.956156 (0.007257) with: {'max_features': 1, 'n_estimators': 100}\n",
      "0.956757 (0.007501) with: {'max_features': 1, 'n_estimators': 1000}\n",
      "0.953754 (0.009795) with: {'max_features': 2, 'n_estimators': 10}\n",
      "0.956156 (0.008620) with: {'max_features': 2, 'n_estimators': 100}\n",
      "0.957357 (0.006952) with: {'max_features': 2, 'n_estimators': 1000}\n",
      "0.956156 (0.010333) with: {'max_features': 3, 'n_estimators': 10}\n",
      "0.956757 (0.008191) with: {'max_features': 3, 'n_estimators': 100}\n",
      "0.957357 (0.007691) with: {'max_features': 3, 'n_estimators': 1000}\n",
      "0.956156 (0.010844) with: {'max_features': 4, 'n_estimators': 10}\n",
      "0.957958 (0.007831) with: {'max_features': 4, 'n_estimators': 100}\n",
      "0.957357 (0.007691) with: {'max_features': 4, 'n_estimators': 1000}\n",
      "0.954354 (0.009572) with: {'max_features': 5, 'n_estimators': 10}\n",
      "0.957958 (0.008494) with: {'max_features': 5, 'n_estimators': 100}\n",
      "0.957357 (0.007691) with: {'max_features': 5, 'n_estimators': 1000}\n",
      "0.953153 (0.012825) with: {'max_features': 6, 'n_estimators': 10}\n",
      "0.957357 (0.007691) with: {'max_features': 6, 'n_estimators': 100}\n",
      "0.957958 (0.007106) with: {'max_features': 6, 'n_estimators': 1000}\n",
      "0.948949 (0.012161) with: {'max_features': 7, 'n_estimators': 10}\n",
      "0.956757 (0.008827) with: {'max_features': 7, 'n_estimators': 100}\n",
      "0.956757 (0.008827) with: {'max_features': 7, 'n_estimators': 1000}\n"
     ]
    }
   ],
   "source": [
    "grid_result = grid_search.fit(Xtr3, ytr3)\n",
    "printGridResult(grid_result)"
   ]
  },
  {
   "cell_type": "code",
   "execution_count": null,
   "metadata": {},
   "outputs": [
    {
     "name": "stderr",
     "output_type": "stream",
     "text": [
      "/opt/anaconda3/lib/python3.7/site-packages/joblib/externals/loky/process_executor.py:706: UserWarning: A worker stopped while some jobs were given to the executor. This can be caused by a too short worker timeout or by a memory leak.\n",
      "  \"timeout or by a memory leak.\", UserWarning\n"
     ]
    }
   ],
   "source": [
    "model = xgb.XGBClassifier()\n",
    "n_estimators = [10, 100, 1000]\n",
    "learning_rate = [0.001, 0.01, 0.1]\n",
    "# define grid search\n",
    "grid = dict(learning_rate=learning_rate, n_estimators=n_estimators, subsample=subsample, max_depth=max_depth)\n",
    "cv = RepeatedStratifiedKFold(n_splits=3, n_repeats=3, random_state=1)\n",
    "grid_search = GridSearchCV(estimator=model, param_grid=grid, n_jobs=-1, cv=cv, scoring='accuracy',error_score=0)\n",
    "grid_result = grid_search.fit(Xtr1, ytr1)\n",
    "printGridResult(grid_result)"
   ]
  },
  {
   "cell_type": "code",
   "execution_count": null,
   "metadata": {},
   "outputs": [],
   "source": [
    "grid_result = grid_search.fit(Xtr2, ytr2)\n",
    "printGridResult(grid_result)"
   ]
  },
  {
   "cell_type": "code",
   "execution_count": null,
   "metadata": {},
   "outputs": [],
   "source": [
    "grid_result = grid_search.fit(Xtr3, ytr3)\n",
    "printGridResult(grid_result)"
   ]
  },
  {
   "cell_type": "code",
   "execution_count": null,
   "metadata": {},
   "outputs": [],
   "source": [
    "model = SVC()\n",
    "kernel = ['poly', 'rbf', 'sigmoid']\n",
    "C = [50, 10, 1.0, 0.1, 0.01]\n",
    "gamma = ['scale']\n",
    "# define grid search\n",
    "grid = dict(kernel=kernel,C=C,gamma=gamma)\n",
    "cv = RepeatedStratifiedKFold(n_splits=5, n_repeats=3, random_state=1)\n",
    "grid_search = GridSearchCV(estimator=model, param_grid=grid, n_jobs=-1, cv=cv, scoring='accuracy',error_score=0)\n",
    "grid_result = grid_search.fit(Xtr1, ytr1)\n",
    "printGridResult(grid_result)"
   ]
  },
  {
   "cell_type": "code",
   "execution_count": null,
   "metadata": {},
   "outputs": [],
   "source": [
    "grid_result = grid_search.fit(Xtr2, ytr2)\n",
    "printGridResult(grid_result)"
   ]
  },
  {
   "cell_type": "code",
   "execution_count": null,
   "metadata": {},
   "outputs": [],
   "source": [
    "grid_result = grid_search.fit(Xtr3, ytr3)\n",
    "printGridResult(grid_result)"
   ]
  },
  {
   "cell_type": "code",
   "execution_count": null,
   "metadata": {},
   "outputs": [],
   "source": []
  }
 ],
 "metadata": {
  "kernelspec": {
   "display_name": "Python 3",
   "language": "python",
   "name": "python3"
  }
 },
 "nbformat": 4,
 "nbformat_minor": 4
}
